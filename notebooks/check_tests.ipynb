{
 "cells": [
  {
   "cell_type": "markdown",
   "metadata": {},
   "source": [
    "### Test your tests :)\n",
    "- Make sure to keep this file but add it to .gitignore :)"
   ]
  },
  {
   "cell_type": "code",
   "execution_count": null,
   "metadata": {},
   "outputs": [],
   "source": [
    "%load_ext autoreload\n",
    "%autoreload 2"
   ]
  },
  {
   "cell_type": "markdown",
   "metadata": {},
   "source": [
    "### data_utils"
   ]
  },
  {
   "cell_type": "code",
   "execution_count": 2,
   "metadata": {},
   "outputs": [],
   "source": [
    "from pathlib import Path\n",
    "from src.data_utils import create_csv_path_list, unique_key_check"
   ]
  },
  {
   "cell_type": "code",
   "execution_count": 7,
   "metadata": {},
   "outputs": [],
   "source": [
    "empty_path = Path('.')\n",
    "full_path = Path('..') / 'event_data'"
   ]
  },
  {
   "cell_type": "code",
   "execution_count": 15,
   "metadata": {},
   "outputs": [
    {
     "name": "stdout",
     "output_type": "stream",
     "text": [
      "There is something wrong with the input, make sure it is a Path like object, error: 'int' object has no attribute 'glob'\n"
     ]
    }
   ],
   "source": [
    "create_csv_path_list(0)"
   ]
  },
  {
   "cell_type": "code",
   "execution_count": 16,
   "metadata": {},
   "outputs": [
    {
     "name": "stdout",
     "output_type": "stream",
     "text": [
      "There is something wrong with the input, make sure it is a Path like object, error: 'str' object has no attribute 'glob'\n"
     ]
    }
   ],
   "source": [
    "create_csv_path_list('lolly')"
   ]
  },
  {
   "cell_type": "code",
   "execution_count": 23,
   "metadata": {},
   "outputs": [
    {
     "name": "stdout",
     "output_type": "stream",
     "text": [
      "There is something wrong with the input, make sure it is a Path like object, error: 'list' object has no attribute 'glob'\n"
     ]
    }
   ],
   "source": [
    "create_csv_path_list([])"
   ]
  },
  {
   "cell_type": "code",
   "execution_count": 25,
   "metadata": {},
   "outputs": [
    {
     "name": "stdout",
     "output_type": "stream",
     "text": [
      ". contains 0 .csv files.\n"
     ]
    }
   ],
   "source": [
    "empty_path_list = create_csv_path_list(empty_path)"
   ]
  },
  {
   "cell_type": "code",
   "execution_count": 26,
   "metadata": {},
   "outputs": [
    {
     "data": {
      "text/plain": [
       "NoneType"
      ]
     },
     "execution_count": 26,
     "metadata": {},
     "output_type": "execute_result"
    }
   ],
   "source": [
    "type(empty_path_list)"
   ]
  },
  {
   "cell_type": "code",
   "execution_count": 27,
   "metadata": {},
   "outputs": [
    {
     "name": "stdout",
     "output_type": "stream",
     "text": [
      "..\\event_data contains 30 .csv files.\n"
     ]
    }
   ],
   "source": [
    "correct_path_list = create_csv_path_list(full_path)"
   ]
  },
  {
   "cell_type": "code",
   "execution_count": 28,
   "metadata": {},
   "outputs": [
    {
     "data": {
      "text/plain": [
       "list"
      ]
     },
     "execution_count": 28,
     "metadata": {},
     "output_type": "execute_result"
    }
   ],
   "source": [
    "type(correct_path_list)"
   ]
  },
  {
   "cell_type": "code",
   "execution_count": 29,
   "metadata": {},
   "outputs": [
    {
     "data": {
      "text/plain": [
       "30"
      ]
     },
     "execution_count": 29,
     "metadata": {},
     "output_type": "execute_result"
    }
   ],
   "source": [
    "len(correct_path_list)"
   ]
  },
  {
   "cell_type": "code",
   "execution_count": 30,
   "metadata": {},
   "outputs": [
    {
     "data": {
      "text/plain": [
       "[pathlib.WindowsPath,\n",
       " pathlib.WindowsPath,\n",
       " pathlib.WindowsPath,\n",
       " pathlib.WindowsPath,\n",
       " pathlib.WindowsPath,\n",
       " pathlib.WindowsPath,\n",
       " pathlib.WindowsPath,\n",
       " pathlib.WindowsPath,\n",
       " pathlib.WindowsPath,\n",
       " pathlib.WindowsPath,\n",
       " pathlib.WindowsPath,\n",
       " pathlib.WindowsPath,\n",
       " pathlib.WindowsPath,\n",
       " pathlib.WindowsPath,\n",
       " pathlib.WindowsPath,\n",
       " pathlib.WindowsPath,\n",
       " pathlib.WindowsPath,\n",
       " pathlib.WindowsPath,\n",
       " pathlib.WindowsPath,\n",
       " pathlib.WindowsPath,\n",
       " pathlib.WindowsPath,\n",
       " pathlib.WindowsPath,\n",
       " pathlib.WindowsPath,\n",
       " pathlib.WindowsPath,\n",
       " pathlib.WindowsPath,\n",
       " pathlib.WindowsPath,\n",
       " pathlib.WindowsPath,\n",
       " pathlib.WindowsPath,\n",
       " pathlib.WindowsPath,\n",
       " pathlib.WindowsPath]"
      ]
     },
     "execution_count": 30,
     "metadata": {},
     "output_type": "execute_result"
    }
   ],
   "source": [
    "[type(x) for x in correct_path_list]"
   ]
  },
  {
   "cell_type": "code",
   "execution_count": 19,
   "metadata": {},
   "outputs": [
    {
     "name": "stdout",
     "output_type": "stream",
     "text": [
      "There is something wrong with the input, make sure it is a Path like object, error: 'int' object has no attribute 'glob'\n"
     ]
    }
   ],
   "source": [
    "int_test = create_csv_path_list(0)"
   ]
  },
  {
   "cell_type": "code",
   "execution_count": 20,
   "metadata": {},
   "outputs": [
    {
     "data": {
      "text/plain": [
       "NoneType"
      ]
     },
     "execution_count": 20,
     "metadata": {},
     "output_type": "execute_result"
    }
   ],
   "source": [
    "type(int_test)"
   ]
  },
  {
   "cell_type": "code",
   "execution_count": 21,
   "metadata": {},
   "outputs": [],
   "source": [
    "assert int_test==None"
   ]
  },
  {
   "cell_type": "code",
   "execution_count": null,
   "metadata": {},
   "outputs": [],
   "source": []
  }
 ],
 "metadata": {
  "kernelspec": {
   "display_name": "Python 3",
   "language": "python",
   "name": "python3"
  },
  "language_info": {
   "codemirror_mode": {
    "name": "ipython",
    "version": 3
   },
   "file_extension": ".py",
   "mimetype": "text/x-python",
   "name": "python",
   "nbconvert_exporter": "python",
   "pygments_lexer": "ipython3",
   "version": "3.8.5"
  }
 },
 "nbformat": 4,
 "nbformat_minor": 4
}
