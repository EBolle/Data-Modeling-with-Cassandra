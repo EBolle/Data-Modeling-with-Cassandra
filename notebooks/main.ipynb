{
 "cells": [
  {
   "cell_type": "markdown",
   "metadata": {},
   "source": [
    "#### Welcome to the Cassandra project\n",
    "\n",
    "The goal of the project is to transform a number of .csv files to 3 optimized Cassandra tables, ready to execute 3 specific queries. \n",
    "\n",
    "To reach this goal we need to do the following:\n",
    "- transform the .csv files to a ready for insertion list of tuples\n",
    "- inspect the distribution of the potential partition keys \n",
    "- create the Cassandra tables\n",
    "- insert the data\n",
    "- validate the queries"
   ]
  },
  {
   "cell_type": "code",
   "execution_count": 1,
   "metadata": {},
   "outputs": [],
   "source": [
    "from pathlib import Path\n",
    "from src.create_event_data import CreateEventData\n",
    "from src.data_utils import create_csv_path_list"
   ]
  },
  {
   "cell_type": "markdown",
   "metadata": {},
   "source": [
    "#### Step 1: transform the .csv files to a ready for insertion list of tuples"
   ]
  },
  {
   "cell_type": "code",
   "execution_count": 2,
   "metadata": {},
   "outputs": [
    {
     "name": "stdout",
     "output_type": "stream",
     "text": [
      "..\\event_data contains 30 .csv files.\n"
     ]
    }
   ],
   "source": [
    "event_data_path = Path('..') / 'event_data'\n",
    "csv_list = create_csv_path_list(event_data_path)"
   ]
  },
  {
   "cell_type": "code",
   "execution_count": 3,
   "metadata": {},
   "outputs": [],
   "source": [
    "create_event_instance = CreateEventData(csv_path_list=csv_list)"
   ]
  },
  {
   "cell_type": "code",
   "execution_count": 4,
   "metadata": {},
   "outputs": [
    {
     "name": "stderr",
     "output_type": "stream",
     "text": [
      "INFO 2020-12-30 08:22:12,782 [create_event_data.py:data_pipeline:36] Data pipeline started...\n"
     ]
    },
    {
     "name": "stdout",
     "output_type": "stream",
     "text": [
      "Processed 1 / 30 .csv files\n",
      "Processed 2 / 30 .csv files\n",
      "Processed 3 / 30 .csv files\n",
      "Processed 4 / 30 .csv files\n",
      "Processed 5 / 30 .csv files\n",
      "Processed 6 / 30 .csv files\n",
      "Processed 7 / 30 .csv files\n",
      "Processed 8 / 30 .csv files\n",
      "Processed 9 / 30 .csv files\n",
      "Processed 10 / 30 .csv files\n",
      "Processed 11 / 30 .csv files\n",
      "Processed 12 / 30 .csv files\n",
      "Processed 13 / 30 .csv files\n",
      "Processed 14 / 30 .csv files\n",
      "Processed 15 / 30 .csv files\n",
      "Processed 16 / 30 .csv files\n",
      "Processed 17 / 30 .csv files\n",
      "Processed 18 / 30 .csv files\n",
      "Processed 19 / 30 .csv files\n",
      "Processed 20 / 30 .csv files\n",
      "Processed 21 / 30 .csv files\n",
      "Processed 22 / 30 .csv files\n",
      "Processed 23 / 30 .csv files\n",
      "Processed 24 / 30 .csv files\n",
      "Processed 25 / 30 .csv files\n",
      "Processed 26 / 30 .csv files\n",
      "Processed 27 / 30 .csv files\n",
      "Processed 28 / 30 .csv files\n",
      "Processed 29 / 30 .csv files\n",
      "Processed 30 / 30 .csv files\n"
     ]
    }
   ],
   "source": [
    "return_df, event_data = create_event_instance.data_pipeline()"
   ]
  },
  {
   "cell_type": "markdown",
   "metadata": {},
   "source": [
    "#### Step 2: inspect the distribution of the potential partition keys\n",
    "\n",
    "####  Create queries to ask the following three questions of the data\n",
    "\n",
    "##### 1. Give me the artist, song title and song's length in the music app history that was heard during  sessionId = 338, and itemInSession  = 4\n",
    "\n",
    "\n",
    "##### 2. Give me only the following: name of artist, song (sorted by itemInSession) and user (first and last name) for userid = 10, sessionid = 182\n",
    "    \n",
    "\n",
    "##### 3. Give me every user name (first and last) in my music app history who listened to the song 'All Hands Against His Own'\n"
   ]
  },
  {
   "cell_type": "code",
   "execution_count": 5,
   "metadata": {},
   "outputs": [
    {
     "data": {
      "text/html": [
       "<div>\n",
       "<style scoped>\n",
       "    .dataframe tbody tr th:only-of-type {\n",
       "        vertical-align: middle;\n",
       "    }\n",
       "\n",
       "    .dataframe tbody tr th {\n",
       "        vertical-align: top;\n",
       "    }\n",
       "\n",
       "    .dataframe thead th {\n",
       "        text-align: right;\n",
       "    }\n",
       "</style>\n",
       "<table border=\"1\" class=\"dataframe\">\n",
       "  <thead>\n",
       "    <tr style=\"text-align: right;\">\n",
       "      <th></th>\n",
       "      <th>artist</th>\n",
       "      <th>firstName</th>\n",
       "      <th>gender</th>\n",
       "      <th>itemInSession</th>\n",
       "      <th>lastName</th>\n",
       "      <th>length</th>\n",
       "      <th>level</th>\n",
       "      <th>location</th>\n",
       "      <th>sessionId</th>\n",
       "      <th>song</th>\n",
       "      <th>userId</th>\n",
       "    </tr>\n",
       "  </thead>\n",
       "  <tbody>\n",
       "    <tr>\n",
       "      <th>0</th>\n",
       "      <td>Des'ree</td>\n",
       "      <td>Kaylee</td>\n",
       "      <td>F</td>\n",
       "      <td>1</td>\n",
       "      <td>Summers</td>\n",
       "      <td>246.30812</td>\n",
       "      <td>free</td>\n",
       "      <td>Phoenix-Mesa-Scottsdale, AZ</td>\n",
       "      <td>139</td>\n",
       "      <td>You Gotta Be</td>\n",
       "      <td>8</td>\n",
       "    </tr>\n",
       "    <tr>\n",
       "      <th>1</th>\n",
       "      <td>Mr Oizo</td>\n",
       "      <td>Kaylee</td>\n",
       "      <td>F</td>\n",
       "      <td>3</td>\n",
       "      <td>Summers</td>\n",
       "      <td>144.03873</td>\n",
       "      <td>free</td>\n",
       "      <td>Phoenix-Mesa-Scottsdale, AZ</td>\n",
       "      <td>139</td>\n",
       "      <td>Flat 55</td>\n",
       "      <td>8</td>\n",
       "    </tr>\n",
       "    <tr>\n",
       "      <th>2</th>\n",
       "      <td>Tamba Trio</td>\n",
       "      <td>Kaylee</td>\n",
       "      <td>F</td>\n",
       "      <td>4</td>\n",
       "      <td>Summers</td>\n",
       "      <td>177.18812</td>\n",
       "      <td>free</td>\n",
       "      <td>Phoenix-Mesa-Scottsdale, AZ</td>\n",
       "      <td>139</td>\n",
       "      <td>Quem Quiser Encontrar O Amor</td>\n",
       "      <td>8</td>\n",
       "    </tr>\n",
       "  </tbody>\n",
       "</table>\n",
       "</div>"
      ],
      "text/plain": [
       "       artist firstName gender itemInSession lastName     length level  \\\n",
       "0     Des'ree    Kaylee      F             1  Summers  246.30812  free   \n",
       "1     Mr Oizo    Kaylee      F             3  Summers  144.03873  free   \n",
       "2  Tamba Trio    Kaylee      F             4  Summers  177.18812  free   \n",
       "\n",
       "                      location sessionId                          song userId  \n",
       "0  Phoenix-Mesa-Scottsdale, AZ       139                  You Gotta Be      8  \n",
       "1  Phoenix-Mesa-Scottsdale, AZ       139                       Flat 55      8  \n",
       "2  Phoenix-Mesa-Scottsdale, AZ       139  Quem Quiser Encontrar O Amor      8  "
      ]
     },
     "execution_count": 5,
     "metadata": {},
     "output_type": "execute_result"
    }
   ],
   "source": [
    "return_df.head(n=3)"
   ]
  },
  {
   "cell_type": "code",
   "execution_count": 12,
   "metadata": {},
   "outputs": [
    {
     "data": {
      "text/plain": [
       "(6820, 11)"
      ]
     },
     "execution_count": 12,
     "metadata": {},
     "output_type": "execute_result"
    }
   ],
   "source": [
    "return_df.shape"
   ]
  },
  {
   "cell_type": "code",
   "execution_count": 20,
   "metadata": {},
   "outputs": [],
   "source": [
    "from collections import Counter\n",
    "import matplotlib.pyplot as plt\n",
    "import seaborn as sns"
   ]
  },
  {
   "cell_type": "code",
   "execution_count": 13,
   "metadata": {},
   "outputs": [],
   "source": [
    "session_id_values = Counter(return_df['sessionId']).values()"
   ]
  },
  {
   "cell_type": "code",
   "execution_count": 21,
   "metadata": {},
   "outputs": [
    {
     "data": {
      "text/plain": [
       "<seaborn.axisgrid.FacetGrid at 0x19dee82b190>"
      ]
     },
     "execution_count": 21,
     "metadata": {},
     "output_type": "execute_result"
    },
    {
     "data": {
      "image/png": "[encoded data removed]",
      "text/plain": [
       "<Figure size 402.25x360 with 1 Axes>"
      ]
     },
     "metadata": {
      "needs_background": "light"
     },
     "output_type": "display_data"
    }
   ],
   "source": [
    "sns.displot(session_id_values)"
   ]
  },
  {
   "cell_type": "code",
   "execution_count": null,
   "metadata": {},
   "outputs": [],
   "source": []
  },
  {
   "cell_type": "code",
   "execution_count": null,
   "metadata": {},
   "outputs": [],
   "source": []
  },
  {
   "cell_type": "code",
   "execution_count": null,
   "metadata": {},
   "outputs": [],
   "source": []
  },
  {
   "cell_type": "code",
   "execution_count": null,
   "metadata": {},
   "outputs": [],
   "source": [
    "fig, ax = plt.subplots(figsize=(16, 8))\n",
    "\n",
    "sns.kdeplot(data=camp_1_A, fill=True, ax=ax)\n",
    "plt.setp(ax.get_legend().get_texts(), fontsize='14')\n",
    "\n",
    "ax.set_xlabel('underlying probability of success', fontsize=12)    \n",
    "ax.set_xlim(0, 1)\n",
    "ax.set_xticks(np.arange(0, 1.1, 0.1))\n",
    "ax.set_xticklabels([f\"{round(x*100, 2)}%\" for x in np.arange(0, 1.1, 0.1)])\n",
    "\n",
    "fig.suptitle('What underlying probabilities could have caused the found result?', fontsize=18)\n",
    "# fig.savefig('session_id_distribution.jpg')\n",
    ";"
   ]
  }
 ],
 "metadata": {
  "kernelspec": {
   "display_name": "Python 3",
   "language": "python",
   "name": "python3"
  },
  "language_info": {
   "codemirror_mode": {
    "name": "ipython",
    "version": 3
   },
   "file_extension": ".py",
   "mimetype": "text/x-python",
   "name": "python",
   "nbconvert_exporter": "python",
   "pygments_lexer": "ipython3",
   "version": "3.8.5"
  }
 },
 "nbformat": 4,
 "nbformat_minor": 4
}
